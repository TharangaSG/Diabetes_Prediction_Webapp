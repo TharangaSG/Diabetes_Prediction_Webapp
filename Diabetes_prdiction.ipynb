{
 "cells": [
  {
   "cell_type": "code",
   "execution_count": 918,
   "metadata": {},
   "outputs": [],
   "source": [
    "import numpy as np\n",
    "import pandas as pd\n",
    "from sklearn.preprocessing import StandardScaler\n",
    "from sklearn.model_selection import train_test_split\n",
    "from sklearn.svm import SVC\n",
    "from sklearn.metrics import accuracy_score"
   ]
  },
  {
   "cell_type": "markdown",
   "metadata": {},
   "source": [
    "Collecting Data and Analysis"
   ]
  },
  {
   "cell_type": "code",
   "execution_count": 919,
   "metadata": {},
   "outputs": [
    {
     "name": "stdout",
     "output_type": "stream",
     "text": [
      "   Pregnancies  Glucose  BloodPressure  SkinThickness  Insulin   BMI  \\\n",
      "0            6      148             72             35        0  33.6   \n",
      "1            1       85             66             29        0  26.6   \n",
      "2            8      183             64              0        0  23.3   \n",
      "3            1       89             66             23       94  28.1   \n",
      "4            0      137             40             35      168  43.1   \n",
      "\n",
      "   DiabetesPedigreeFunction  Age  Outcome  \n",
      "0                     0.627   50        1  \n",
      "1                     0.351   31        0  \n",
      "2                     0.672   32        1  \n",
      "3                     0.167   21        0  \n",
      "4                     2.288   33        1  \n"
     ]
    }
   ],
   "source": [
    "# loading diabetes dataset\n",
    "\n",
    "diabetes_data = pd.read_csv('Diabetes.csv')\n",
    "print(diabetes_data.head())"
   ]
  },
  {
   "cell_type": "code",
   "execution_count": 920,
   "metadata": {},
   "outputs": [
    {
     "data": {
      "text/plain": [
       "(768, 9)"
      ]
     },
     "execution_count": 920,
     "metadata": {},
     "output_type": "execute_result"
    }
   ],
   "source": [
    "# number of rows and columns\n",
    "diabetes_data.shape"
   ]
  },
  {
   "cell_type": "code",
   "execution_count": 921,
   "metadata": {},
   "outputs": [
    {
     "data": {
      "text/plain": [
       "0    500\n",
       "1    268\n",
       "Name: Outcome, dtype: int64"
      ]
     },
     "execution_count": 921,
     "metadata": {},
     "output_type": "execute_result"
    }
   ],
   "source": [
    "# statistical values of data\n",
    "diabetes_data.describe()\n",
    "diabetes_data['Outcome'].value_counts()"
   ]
  },
  {
   "cell_type": "markdown",
   "metadata": {},
   "source": [
    "Diabetecs - 1\n",
    "\n",
    "Non diabetecs - 0"
   ]
  },
  {
   "cell_type": "code",
   "execution_count": 922,
   "metadata": {},
   "outputs": [
    {
     "data": {
      "text/html": [
       "<div>\n",
       "<style scoped>\n",
       "    .dataframe tbody tr th:only-of-type {\n",
       "        vertical-align: middle;\n",
       "    }\n",
       "\n",
       "    .dataframe tbody tr th {\n",
       "        vertical-align: top;\n",
       "    }\n",
       "\n",
       "    .dataframe thead th {\n",
       "        text-align: right;\n",
       "    }\n",
       "</style>\n",
       "<table border=\"1\" class=\"dataframe\">\n",
       "  <thead>\n",
       "    <tr style=\"text-align: right;\">\n",
       "      <th></th>\n",
       "      <th>Pregnancies</th>\n",
       "      <th>Glucose</th>\n",
       "      <th>BloodPressure</th>\n",
       "      <th>SkinThickness</th>\n",
       "      <th>Insulin</th>\n",
       "      <th>BMI</th>\n",
       "      <th>DiabetesPedigreeFunction</th>\n",
       "      <th>Age</th>\n",
       "    </tr>\n",
       "    <tr>\n",
       "      <th>Outcome</th>\n",
       "      <th></th>\n",
       "      <th></th>\n",
       "      <th></th>\n",
       "      <th></th>\n",
       "      <th></th>\n",
       "      <th></th>\n",
       "      <th></th>\n",
       "      <th></th>\n",
       "    </tr>\n",
       "  </thead>\n",
       "  <tbody>\n",
       "    <tr>\n",
       "      <th>0</th>\n",
       "      <td>3.298000</td>\n",
       "      <td>109.980000</td>\n",
       "      <td>68.184000</td>\n",
       "      <td>19.664000</td>\n",
       "      <td>68.792000</td>\n",
       "      <td>30.304200</td>\n",
       "      <td>0.429734</td>\n",
       "      <td>31.190000</td>\n",
       "    </tr>\n",
       "    <tr>\n",
       "      <th>1</th>\n",
       "      <td>4.865672</td>\n",
       "      <td>141.257463</td>\n",
       "      <td>70.824627</td>\n",
       "      <td>22.164179</td>\n",
       "      <td>100.335821</td>\n",
       "      <td>35.142537</td>\n",
       "      <td>0.550500</td>\n",
       "      <td>37.067164</td>\n",
       "    </tr>\n",
       "  </tbody>\n",
       "</table>\n",
       "</div>"
      ],
      "text/plain": [
       "         Pregnancies     Glucose  BloodPressure  SkinThickness     Insulin  \\\n",
       "Outcome                                                                      \n",
       "0           3.298000  109.980000      68.184000      19.664000   68.792000   \n",
       "1           4.865672  141.257463      70.824627      22.164179  100.335821   \n",
       "\n",
       "               BMI  DiabetesPedigreeFunction        Age  \n",
       "Outcome                                                  \n",
       "0        30.304200                  0.429734  31.190000  \n",
       "1        35.142537                  0.550500  37.067164  "
      ]
     },
     "execution_count": 922,
     "metadata": {},
     "output_type": "execute_result"
    }
   ],
   "source": [
    "diabetes_data.groupby('Outcome').mean()"
   ]
  },
  {
   "cell_type": "code",
   "execution_count": 923,
   "metadata": {},
   "outputs": [
    {
     "name": "stdout",
     "output_type": "stream",
     "text": [
      "X values -     Pregnancies  Glucose  BloodPressure  SkinThickness  Insulin   BMI  \\\n",
      "0            6      148             72             35        0  33.6   \n",
      "1            1       85             66             29        0  26.6   \n",
      "2            8      183             64              0        0  23.3   \n",
      "3            1       89             66             23       94  28.1   \n",
      "4            0      137             40             35      168  43.1   \n",
      "\n",
      "   DiabetesPedigreeFunction  Age  \n",
      "0                     0.627   50  \n",
      "1                     0.351   31  \n",
      "2                     0.672   32  \n",
      "3                     0.167   21  \n",
      "4                     2.288   33  \n",
      "Y values -  0    1\n",
      "1    0\n",
      "2    1\n",
      "3    0\n",
      "4    1\n",
      "Name: Outcome, dtype: int64\n"
     ]
    }
   ],
   "source": [
    "# separate data and labels\n",
    "X = diabetes_data.drop(columns = 'Outcome', axis = 1)\n",
    "Y = diabetes_data['Outcome']\n",
    "\n",
    "print(\"X values - \", X.head())\n",
    "print(\"Y values - \", Y.head())"
   ]
  },
  {
   "cell_type": "markdown",
   "metadata": {},
   "source": [
    "Data Standarization"
   ]
  },
  {
   "cell_type": "code",
   "execution_count": 924,
   "metadata": {},
   "outputs": [],
   "source": [
    "def standard_normalization(data):\n",
    "  mean = np.mean(data)\n",
    "  std = np.std(data)\n",
    "  scaled_data = (data - mean) / std\n",
    "  return scaled_data"
   ]
  },
  {
   "cell_type": "code",
   "execution_count": 925,
   "metadata": {},
   "outputs": [
    {
     "name": "stdout",
     "output_type": "stream",
     "text": [
      "     Pregnancies   Glucose  BloodPressure  SkinThickness   Insulin       BMI  \\\n",
      "0       0.639947  0.848324       0.149641       0.907270 -0.692891  0.204013   \n",
      "1      -0.844885 -1.123396      -0.160546       0.530902 -0.692891 -0.684422   \n",
      "2       1.233880  1.943724      -0.263941      -1.288212 -0.692891 -1.103255   \n",
      "3      -0.844885 -0.998208      -0.160546       0.154533  0.123302 -0.494043   \n",
      "4      -1.141852  0.504055      -1.504687       0.907270  0.765836  1.409746   \n",
      "..           ...       ...            ...            ...       ...       ...   \n",
      "763     1.827813 -0.622642       0.356432       1.722735  0.870031  0.115169   \n",
      "764    -0.547919  0.034598       0.046245       0.405445 -0.692891  0.610154   \n",
      "765     0.342981  0.003301       0.149641       0.154533  0.279594 -0.735190   \n",
      "766    -0.844885  0.159787      -0.470732      -1.288212 -0.692891 -0.240205   \n",
      "767    -0.844885 -0.873019       0.046245       0.656358 -0.692891 -0.202129   \n",
      "\n",
      "     DiabetesPedigreeFunction       Age  \n",
      "0                    0.468492  1.425995  \n",
      "1                   -0.365061 -0.190672  \n",
      "2                    0.604397 -0.105584  \n",
      "3                   -0.920763 -1.041549  \n",
      "4                    5.484909 -0.020496  \n",
      "..                        ...       ...  \n",
      "763                 -0.908682  2.532136  \n",
      "764                 -0.398282 -0.531023  \n",
      "765                 -0.685193 -0.275760  \n",
      "766                 -0.371101  1.170732  \n",
      "767                 -0.473785 -0.871374  \n",
      "\n",
      "[768 rows x 8 columns]\n"
     ]
    }
   ],
   "source": [
    "standarized_data = standard_normalization(X)\n",
    "print(standarized_data)"
   ]
  },
  {
   "cell_type": "code",
   "execution_count": 926,
   "metadata": {},
   "outputs": [],
   "source": [
    "X = standarized_data\n",
    "Y = diabetes_data[\"Outcome\"]"
   ]
  },
  {
   "cell_type": "markdown",
   "metadata": {},
   "source": [
    "Spliting Data"
   ]
  },
  {
   "cell_type": "code",
   "execution_count": 927,
   "metadata": {},
   "outputs": [
    {
     "name": "stdout",
     "output_type": "stream",
     "text": [
      "(768, 8) (154, 8) (614, 8)\n"
     ]
    }
   ],
   "source": [
    "x_train, x_test, y_train, y_test = train_test_split(X, Y, test_size = 0.2, stratify = Y, random_state = 2)\n",
    "print(X.shape, x_test.shape, x_train.shape)"
   ]
  },
  {
   "cell_type": "markdown",
   "metadata": {},
   "source": [
    "Traning the Model"
   ]
  },
  {
   "cell_type": "code",
   "execution_count": 928,
   "metadata": {},
   "outputs": [
    {
     "data": {
      "text/plain": [
       "SVC(kernel='linear')"
      ]
     },
     "execution_count": 928,
     "metadata": {},
     "output_type": "execute_result"
    }
   ],
   "source": [
    "model = SVC(kernel='linear')\n",
    "\n",
    "# fitting the support vrctor machine clasifier\n",
    "model.fit(x_train, y_train)"
   ]
  },
  {
   "cell_type": "markdown",
   "metadata": {},
   "source": [
    "Model Evaluation"
   ]
  },
  {
   "cell_type": "code",
   "execution_count": 929,
   "metadata": {},
   "outputs": [
    {
     "name": "stdout",
     "output_type": "stream",
     "text": [
      "Accuracy score of traning data -  0.7866449511400652\n"
     ]
    }
   ],
   "source": [
    "# accuracy score on traning data\n",
    "x_train_predictions = model.predict(x_train)\n",
    "traning_data_accuracy = accuracy_score(x_train_predictions, y_train)\n",
    "\n",
    "print(\"Accuracy score of traning data - \", traning_data_accuracy)"
   ]
  },
  {
   "cell_type": "code",
   "execution_count": 930,
   "metadata": {},
   "outputs": [
    {
     "name": "stdout",
     "output_type": "stream",
     "text": [
      "Accuracy score of testing data -  0.7727272727272727\n"
     ]
    }
   ],
   "source": [
    "# accuracy score on test data\n",
    "x_test_predictions = model.predict(x_test)\n",
    "testing_data_accuracy = accuracy_score(x_test_predictions, y_test)\n",
    "\n",
    "print(\"Accuracy score of testing data - \", testing_data_accuracy)"
   ]
  },
  {
   "cell_type": "markdown",
   "metadata": {},
   "source": [
    "Making predictive system"
   ]
  },
  {
   "cell_type": "code",
   "execution_count": 931,
   "metadata": {},
   "outputs": [
    {
     "name": "stdout",
     "output_type": "stream",
     "text": [
      "[[-0.78563246  2.3069156   0.76927997 -0.31915873 -0.78563246 -0.02372537\n",
      "  -0.77378058 -0.38826595]]\n",
      "[1]\n",
      "The person is diabetic\n"
     ]
    }
   ],
   "source": [
    "input_data = (0,179,90,27,0,44.1,0.686,23)\n",
    "\n",
    "# making numpy array\n",
    "data_as_array = np.asarray(input_data)\n",
    "\n",
    "input_data_reshaped = data_as_array.reshape(1,-1)\n",
    "\n",
    "#standerize input data\n",
    "std_data = standard_normalization(input_data_reshaped)\n",
    "print(std_data)\n",
    "\n",
    "prediction = model.predict(std_data)\n",
    "print(prediction)\n",
    "\n",
    "if prediction[0] == 1:\n",
    "    print(\"The person is diabetic\")\n",
    "\n",
    "else:\n",
    "    print(\"The person is not diabetic\")\n",
    "\n",
    "\n",
    "\n",
    "\n"
   ]
  },
  {
   "cell_type": "markdown",
   "metadata": {},
   "source": [
    "Saving the train model"
   ]
  },
  {
   "cell_type": "code",
   "execution_count": 932,
   "metadata": {},
   "outputs": [],
   "source": [
    "import pickle\n",
    "\n",
    "filename = 'diabetecs_model.sav'\n",
    "pickle.dump(model, open(filename, 'wb'))\n",
    "\n",
    "#load the save model\n",
    "loaded_model = pickle.load(open('diabetecs_model.sav', 'rb'))"
   ]
  },
  {
   "cell_type": "code",
   "execution_count": 933,
   "metadata": {},
   "outputs": [
    {
     "name": "stdout",
     "output_type": "stream",
     "text": [
      "[[-0.78563246  2.3069156   0.76927997 -0.31915873 -0.78563246 -0.02372537\n",
      "  -0.77378058 -0.38826595]]\n",
      "[1]\n",
      "The person is diabetic\n"
     ]
    }
   ],
   "source": [
    "\n",
    "import numpy as np\n",
    "input_data = (0,179,90,27,0,44.1,0.686,23)\n",
    "\n",
    "# making numpy array\n",
    "data_as_array = np.asarray(input_data)\n",
    "\n",
    "\n",
    "input_data_reshaped = data_as_array.reshape(1,-1)\n",
    "\n",
    "#standerize input data\n",
    "\n",
    "std_data = standard_normalization(input_data_reshaped)\n",
    "print(std_data)\n",
    "\n",
    "prediction = model.predict(std_data)\n",
    "print(prediction)\n",
    "\n",
    "if prediction[0] == 1:\n",
    "    print(\"The person is diabetic\")\n",
    "\n",
    "else:\n",
    "    print(\"The person is not diabetic\")  \n"
   ]
  }
 ],
 "metadata": {
  "kernelspec": {
   "display_name": "Python 3",
   "language": "python",
   "name": "python3"
  },
  "language_info": {
   "codemirror_mode": {
    "name": "ipython",
    "version": 3
   },
   "file_extension": ".py",
   "mimetype": "text/x-python",
   "name": "python",
   "nbconvert_exporter": "python",
   "pygments_lexer": "ipython3",
   "version": "3.6.8"
  },
  "orig_nbformat": 4
 },
 "nbformat": 4,
 "nbformat_minor": 2
}
